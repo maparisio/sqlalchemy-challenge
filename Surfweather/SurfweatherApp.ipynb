{
 "cells": [
  {
   "cell_type": "code",
   "execution_count": 1,
   "id": "37b79de0-c887-4b60-9aec-84f8d66c4feb",
   "metadata": {},
   "outputs": [],
   "source": [
    "# Import dependencies\n",
    "import numpy as np\n",
    "import datetime as dt\n",
    "import sqlalchemy\n",
    "from sqlalchemy.ext.automap import automap_base\n",
    "from sqlalchemy.orm import Session\n",
    "from sqlalchemy import create_engine, func\n",
    "from flask import Flask, jsonify"
   ]
  },
  {
   "cell_type": "markdown",
   "id": "d02dd314-9de1-4fdc-bee6-b16d797af23c",
   "metadata": {},
   "source": [
    "## Database Setup"
   ]
  },
  {
   "cell_type": "code",
   "execution_count": 2,
   "id": "44ea3609-b2e4-48ba-8fa1-3742f5d0002e",
   "metadata": {},
   "outputs": [],
   "source": [
    "# Database Setup\n",
    "# Create engine to hawaii.sqlite\n",
    "engine = create_engine(\"sqlite:///..\\Resources\\hawaii.sqlite\")"
   ]
  },
  {
   "cell_type": "code",
   "execution_count": 3,
   "id": "65ff1714-3700-4ed7-a15b-967d3970f57e",
   "metadata": {
    "scrolled": true
   },
   "outputs": [
    {
     "name": "stderr",
     "output_type": "stream",
     "text": [
      "C:\\Users\\User1\\AppData\\Local\\Temp\\ipykernel_11608\\1603037778.py:3: SADeprecationWarning: The AutomapBase.prepare.reflect parameter is deprecated and will be removed in a future release.  Reflection is enabled when AutomapBase.prepare.autoload_with is passed.\n",
      "  Base.prepare(engine, reflect=True)\n"
     ]
    }
   ],
   "source": [
    "# Reflect an existing database into a new model\n",
    "Base = automap_base()\n",
    "Base.prepare(engine, reflect=True)"
   ]
  },
  {
   "cell_type": "code",
   "execution_count": 4,
   "id": "20c4a347-0a93-461a-835e-775b621e2bad",
   "metadata": {},
   "outputs": [],
   "source": [
    "# Save references to each table\n",
    "Station = Base.classes.station\n",
    "Measurement = Base.classes.measurement"
   ]
  },
  {
   "cell_type": "code",
   "execution_count": 5,
   "id": "1dc2bd9a-b0a2-4cda-8737-3056d351f3ed",
   "metadata": {},
   "outputs": [],
   "source": [
    "## Create a session\n",
    "session = Session(engine)"
   ]
  },
  {
   "cell_type": "markdown",
   "id": "5e3a2b71-1fb0-42e7-8f25-a9b8ec11b974",
   "metadata": {},
   "source": [
    "## Flask setup"
   ]
  },
  {
   "cell_type": "code",
   "execution_count": 6,
   "id": "de1f7b14-092b-4511-b4a1-7e23bd47e15f",
   "metadata": {},
   "outputs": [],
   "source": [
    "app = Flask(__name__)"
   ]
  },
  {
   "cell_type": "markdown",
   "id": "6e3d8b0b-b555-4525-9214-76fe8ec58251",
   "metadata": {},
   "source": [
    "## Flask Routes"
   ]
  },
  {
   "cell_type": "code",
   "execution_count": 7,
   "id": "8ab4d582-ce2b-4498-b3e6-956a3f0b4447",
   "metadata": {},
   "outputs": [],
   "source": [
    "# Homepage with available api routes\n",
    "def home():\n",
    "    return (\n",
    "        f\"Available Routes:<br/>\"\n",
    "        f\"/api/v1.0/precipitation<br/>\"\n",
    "        f\"/api/v1.0/stations<br/>\"\n",
    "        f\"/api/v1.0/tobs<br/>\"\n",
    "        f\"/api/v1.0/temp/start<start><br/>\"\n",
    "        f\"/api/v1.0/temp/start/end<br/>\"\n",
    "        f\"/api/v1.0/2016-08-23/2017-08-23\"\n",
    "        f\"<p>'start' and 'end' date should be in the format MMDDYYYY.</p>\"\n",
    "    )"
   ]
  },
  {
   "cell_type": "code",
   "execution_count": 8,
   "id": "48ba9a01-5fc4-4da7-9830-ea0f4ff0c516",
   "metadata": {},
   "outputs": [],
   "source": [
    "@app.route(\"/api/v1.0/precipitation\")\n",
    "\n",
    "# Create the precipitation() function\n",
    "def precipitation():\n",
    "\t# Calculate the date one year ago from the most recent date\n",
    "\tprev_year = dt.date(2017, 8, 23) - dt.timedelta(days=365)\n",
    "\n",
    "\t# Query: get date and precipitation for prev_year\n",
    "\tprecipitation = session.query(Measurement.date,Measurement.prcp) .\\\n",
    "\t\tfilter(Measurement.date >= prev_year).all()\n",
    "\t\t\n",
    "\t# Create dictionary w/ jsonify()--format results into .JSON\n",
    "\tprecip = {date: prcp for date, prcp in precipitation}\n",
    "\treturn jsonify(precip)"
   ]
  },
  {
   "cell_type": "code",
   "execution_count": 9,
   "id": "a51a6302-d32e-49e4-8eae-340d5cc7b413",
   "metadata": {},
   "outputs": [],
   "source": [
    "# Stations API route\n",
    "@app.route(\"/api/v1.0/stations\")\n",
    "def stations():\n",
    "    \"\"\"Return a JSON list of stations from the dataset.\"\"\"\n",
    "    station_results = session.query(Station.station).all()\n",
    "\n",
    "    session.close()\n",
    "    \n",
    "    station_list = [station[0] for station in station_results]\n",
    "    return jsonify(station_list)"
   ]
  },
  {
   "cell_type": "code",
   "execution_count": 10,
   "id": "b8fb9e1a-5a26-4959-a1b6-7e735c6a7958",
   "metadata": {},
   "outputs": [],
   "source": [
    "# Tobs API route\n",
    "@app.route(\"/api/v1.0/tobs\")\n",
    "def tobs():\n",
    "    \"\"\"Query the dates and temperature observations of the most-active station for the previous year of data.\"\"\"\n",
    "    most_active_station = \"USC00519281\"\n",
    "    prev_year = dt.date(2017, 8, 23) - dt.timedelta(days=365)\n",
    "    tobs_results = session.query(Measurement.date, Measurement.tobs)\\\n",
    "        .filter(Measurement.station == most_active_station)\\\n",
    "        .filter(Measurement.date >= prev_year).all()\n",
    "\n",
    "    session.close()\n",
    "    \n",
    "    temperature_data = [{'date': date, 'temperature': tobs} for date, tobs in tobs_results]\n",
    "    return jsonify(temperature_data)"
   ]
  },
  {
   "cell_type": "code",
   "execution_count": 11,
   "id": "bbd37615-cbb1-44d2-9135-a33c53afb4ea",
   "metadata": {},
   "outputs": [],
   "source": [
    "# Specified start API route\n",
    "@app.route(\"/api/v1.0/<start>\")\n",
    "def temperature_start(start):\n",
    "    \"\"\"Return a JSON list of the minimum, average, and maximum temperature for a specified start date.\"\"\"\n",
    "    start_results = session.query(func.min(Measurement.tobs), func.avg(Measurement.tobs), func.max(Measurement.tobs))\\\n",
    "        .filter(Measurement.date >= start).all()\n",
    "    temperature_data = {\n",
    "        'TMIN': start_results[0][0],\n",
    "        'TAVG': start_results[0][1],\n",
    "        'TMAX': start_results[0][2]\n",
    "    }\n",
    "    return jsonify(temperature_data)\n"
   ]
  },
  {
   "cell_type": "code",
   "execution_count": 12,
   "id": "3d5fc409-ae3d-4ceb-bea5-83490973cd0e",
   "metadata": {},
   "outputs": [
    {
     "name": "stdout",
     "output_type": "stream",
     "text": [
      " * Serving Flask app '__main__'\n",
      " * Debug mode: on\n"
     ]
    },
    {
     "name": "stderr",
     "output_type": "stream",
     "text": [
      "WARNING: This is a development server. Do not use it in a production deployment. Use a production WSGI server instead.\n",
      " * Running on http://127.0.0.1:5000\n",
      "Press CTRL+C to quit\n",
      " * Restarting with watchdog (windowsapi)\n"
     ]
    },
    {
     "ename": "SystemExit",
     "evalue": "1",
     "output_type": "error",
     "traceback": [
      "An exception has occurred, use %tb to see the full traceback.\n",
      "\u001b[1;31mSystemExit\u001b[0m\u001b[1;31m:\u001b[0m 1\n"
     ]
    },
    {
     "name": "stderr",
     "output_type": "stream",
     "text": [
      "C:\\Users\\User1\\anaconda3\\envs\\dev\\lib\\site-packages\\IPython\\core\\interactiveshell.py:3585: UserWarning: To exit: use 'exit', 'quit', or Ctrl-D.\n",
      "  warn(\"To exit: use 'exit', 'quit', or Ctrl-D.\", stacklevel=1)\n"
     ]
    }
   ],
   "source": [
    "# Specified start/end API route\n",
    "@app.route(\"/api/v1.0/<start>/<end>\")\n",
    "def temperature_start_end(start, end):\n",
    "    \"\"\"Return a JSON list of the minimum, average, and maximum temperature for a specified start-end date range.\"\"\"\n",
    "    start_end_results = session.query(func.min(Measurement.tobs), func.avg(Measurement.tobs), func.max(Measurement.tobs))\\\n",
    "        .filter(Measurement.date >= start).filter(Measurement.date <= end).all()\n",
    "    temperature_data = {\n",
    "        'TMIN': start_end_results[0][0],\n",
    "        'TAVG': start_end_results[0][1],\n",
    "        'TMAX': start_end_results[0][2]\n",
    "    }\n",
    "    return jsonify(temperature_data)\n",
    "if __name__ == \"__main__\":\n",
    "    app.run(debug=True)"
   ]
  },
  {
   "cell_type": "code",
   "execution_count": null,
   "id": "5e15900a-ec3f-48fb-a6f0-ebd71f60e5ae",
   "metadata": {},
   "outputs": [],
   "source": []
  }
 ],
 "metadata": {
  "kernelspec": {
   "display_name": "Python 3 (ipykernel)",
   "language": "python",
   "name": "python3"
  },
  "language_info": {
   "codemirror_mode": {
    "name": "ipython",
    "version": 3
   },
   "file_extension": ".py",
   "mimetype": "text/x-python",
   "name": "python",
   "nbconvert_exporter": "python",
   "pygments_lexer": "ipython3",
   "version": "3.10.13"
  }
 },
 "nbformat": 4,
 "nbformat_minor": 5
}
